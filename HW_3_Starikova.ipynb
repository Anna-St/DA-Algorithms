{
 "cells": [
  {
   "cell_type": "markdown",
   "metadata": {},
   "source": [
    "# ДЗ к уроку №3"
   ]
  },
  {
   "cell_type": "code",
   "execution_count": 1,
   "metadata": {},
   "outputs": [],
   "source": [
    "import numpy as np\n",
    "import matplotlib.pyplot as plt\n",
    "from sklearn import linear_model"
   ]
  },
  {
   "cell_type": "code",
   "execution_count": 2,
   "metadata": {},
   "outputs": [],
   "source": [
    "X = np.array([[1, 1, 1, 1, 1, 1, 1, 1, 1, 1],\n",
    "              [1, 1, 2, 1, 3, 0, 5, 10, 1, 2],\n",
    "              [500, 700, 750, 600, 1450, 800, 1500, 2000, 450, 1000],\n",
    "              [1, 1, 2, 1, 2, 1, 3, 3, 1, 2]], dtype = np.float64)\n",
    "y = np.array([0, 0, 1, 0, 1, 0, 1, 0, 1, 1], dtype = np.float64)"
   ]
  },
  {
   "cell_type": "code",
   "execution_count": 3,
   "metadata": {},
   "outputs": [],
   "source": [
    "def calc_std_fit(x):\n",
    "    res = (x - x.mean()) / x.std()\n",
    "    return res"
   ]
  },
  {
   "cell_type": "code",
   "execution_count": 4,
   "metadata": {},
   "outputs": [
    {
     "data": {
      "text/plain": [
       "array([[ 1.        ,  1.        ,  1.        ,  1.        ,  1.        ,\n",
       "         1.        ,  1.        ,  1.        ,  1.        ,  1.        ],\n",
       "       [-0.57142857, -0.57142857, -0.21428571, -0.57142857,  0.14285714,\n",
       "        -0.92857143,  0.85714286,  2.64285714, -0.57142857, -0.21428571],\n",
       "       [-0.97958969, -0.56713087, -0.46401617, -0.77336028,  0.97958969,\n",
       "        -0.36090146,  1.08270439,  2.11385144, -1.08270439,  0.05155735],\n",
       "       [-0.89625816, -0.89625816,  0.38411064, -0.89625816,  0.38411064,\n",
       "        -0.89625816,  1.66447944,  1.66447944, -0.89625816,  0.38411064]])"
      ]
     },
     "execution_count": 4,
     "metadata": {},
     "output_type": "execute_result"
    }
   ],
   "source": [
    "X_st = X.copy().astype(np.float64)\n",
    "\n",
    "for i in range(X_st.shape[0]):\n",
    "    if i != 0:\n",
    "        X_st[i] =  calc_std_fit(X_st[i])\n",
    "        \n",
    "X_st"
   ]
  },
  {
   "cell_type": "markdown",
   "metadata": {},
   "source": [
    "## 1*. Измените функцию calc_logloss так, чтобы нули по возможности не попадали в np.log."
   ]
  },
  {
   "cell_type": "code",
   "execution_count": 5,
   "metadata": {},
   "outputs": [],
   "source": [
    "def calc_logloss(y, y_pred):\n",
    "    y_pred = np.where(y_pred == 0, 1e-18, y_pred)\n",
    "    err = - np.mean(y * np.log(y_pred) + (1.0 - y) * np.log(1.0 - y_pred))\n",
    "    err = np.sum(err)\n",
    "    return err"
   ]
  },
  {
   "cell_type": "markdown",
   "metadata": {},
   "source": [
    "## 2. Подберите аргументы функции eval_model для логистической регрессии таким образом, чтобы log loss был минимальным."
   ]
  },
  {
   "cell_type": "code",
   "execution_count": 6,
   "metadata": {},
   "outputs": [],
   "source": [
    "def sigmoid(z):\n",
    "    res = 1 / (1 + np.exp(-z))\n",
    "    return res"
   ]
  },
  {
   "cell_type": "code",
   "execution_count": 7,
   "metadata": {},
   "outputs": [],
   "source": [
    "def eval_model(X, y, iterations, alpha=1e-4):\n",
    "    np.random.seed(42)\n",
    "    W = np.random.randn(X.shape[0])\n",
    "    n = X.shape[1]\n",
    "    for i in range(1, iterations+1):\n",
    "        z = np.dot(W, X)\n",
    "        y_pred = sigmoid(z)\n",
    "        err = calc_logloss(y, y_pred)\n",
    "        W -= alpha * (1/n * np.dot((y_pred - y), X.T))\n",
    "        if i % (iterations / 10) == 0:\n",
    "            #print(i, W, err)\n",
    "            pass\n",
    "    return W, err"
   ]
  },
  {
   "cell_type": "code",
   "execution_count": 8,
   "metadata": {},
   "outputs": [
    {
     "name": "stdout",
     "output_type": "stream",
     "text": [
      "Iterations: 1000.0 и alpha: 0.01 дают logloss = 0.46129017053513033\n",
      "Iterations: 1000.0 и alpha: 0.001 дают logloss = 0.6512037362503481\n",
      "Iterations: 1000.0 и alpha: 0.0001 дают logloss = 0.7507528681143767\n",
      "Iterations: 1000.0 и alpha: 1e-05 дают logloss = 0.7625205365285943\n",
      "Iterations: 1000.0 и alpha: 1e-06 дают logloss = 0.7637156161300749\n",
      "Iterations: 1000.0 и alpha: 1e-07 дают logloss = 0.7638353073533598\n",
      "Iterations: 1000.0 и alpha: 1e-08 дают logloss = 0.7638472783084501\n",
      "Iterations: 3250.0 и alpha: 0.01 дают logloss = 0.3810987655960094\n",
      "Iterations: 3250.0 и alpha: 0.001 дают logloss = 0.52907982447217\n",
      "Iterations: 3250.0 и alpha: 0.0001 дают logloss = 0.722760189943928\n",
      "Iterations: 3250.0 и alpha: 1e-05 дают logloss = 0.7595444536943682\n",
      "Iterations: 3250.0 и alpha: 1e-06 дают logloss = 0.7634162346544062\n",
      "Iterations: 3250.0 и alpha: 1e-07 дают logloss = 0.7638053514694343\n",
      "Iterations: 3250.0 и alpha: 1e-08 дают logloss = 0.76384428254269\n",
      "Iterations: 5500.0 и alpha: 0.01 дают logloss = 0.3454158050478244\n",
      "Iterations: 5500.0 и alpha: 0.001 дают logloss = 0.49451921641473867\n",
      "Iterations: 5500.0 и alpha: 0.0001 дают logloss = 0.6968368845676594\n",
      "Iterations: 5500.0 и alpha: 1e-05 дают logloss = 0.756589234990682\n",
      "Iterations: 5500.0 и alpha: 1e-06 дают logloss = 0.763117061955716\n",
      "Iterations: 5500.0 и alpha: 1e-07 дают logloss = 0.7637753976734082\n",
      "Iterations: 5500.0 и alpha: 1e-08 дают logloss = 0.7638412867978075\n",
      "Iterations: 7750.0 и alpha: 0.01 дают logloss = 0.3244759762973344\n",
      "Iterations: 7750.0 и alpha: 0.001 дают logloss = 0.47585909082022154\n",
      "Iterations: 7750.0 и alpha: 0.0001 дают logloss = 0.6729663367795082\n",
      "Iterations: 7750.0 и alpha: 1e-05 дают logloss = 0.7536548695176218\n",
      "Iterations: 7750.0 и alpha: 1e-06 дают logloss = 0.7628180980238334\n",
      "Iterations: 7750.0 и alpha: 1e-07 дают logloss = 0.7637454459652752\n",
      "Iterations: 7750.0 и alpha: 1e-08 дают logloss = 0.7638382910738051\n",
      "Iterations: 10000.0 и alpha: 0.01 дают logloss = 0.31007008824526155\n",
      "Iterations: 10000.0 и alpha: 0.001 дают logloss = 0.4612422941203163\n",
      "Iterations: 10000.0 и alpha: 0.0001 дают logloss = 0.6511273656414657\n",
      "Iterations: 10000.0 и alpha: 1e-05 дают logloss = 0.7507413459865621\n",
      "Iterations: 10000.0 и alpha: 1e-06 дают logloss = 0.7625193428485314\n",
      "Iterations: 10000.0 и alpha: 1e-07 дают logloss = 0.7637154963450228\n",
      "Iterations: 10000.0 и alpha: 1e-08 дают logloss = 0.7638352953706828\n",
      "\n",
      "Минимальное значение LogLoss 0.31007008824526155 достигается при значениях iteration=10000.0, alpha=0.01\n"
     ]
    }
   ],
   "source": [
    "iterations = np.linspace(1e3, 1e4, 5)\n",
    "alphas = np.logspace(-2, -8, 7)\n",
    "\n",
    "min_err = np.inf\n",
    "weights = 0\n",
    "\n",
    "for it in iterations:\n",
    "    for al in alphas:\n",
    "        non, err = eval_model(X_st, y, iterations=int(it), alpha=al)\n",
    "        print(f'Iterations: {it} и alpha: {al} дают logloss = {err}')\n",
    "        if err < min_err:\n",
    "            min_err = err\n",
    "            weights = (it, al)\n",
    "\n",
    "print(f'\\nМинимальное значение LogLoss {min_err} достигается при значениях iteration={weights[0]}, alpha={weights[1]}')"
   ]
  },
  {
   "cell_type": "markdown",
   "metadata": {},
   "source": [
    "## 3. Создайте функцию calc_pred_proba, возвращающую предсказанную вероятность класса 1 (на вход подаются W, который уже посчитан функцией eval_model и X, на выходе - массив y_pred_proba)."
   ]
  },
  {
   "cell_type": "code",
   "execution_count": 9,
   "metadata": {},
   "outputs": [],
   "source": [
    "def calc_pred_proba(W, X):\n",
    "    y_pred = np.dot(W, X)\n",
    "    y_pred_proba = sigmoid(y_pred)\n",
    "    return y_pred_proba"
   ]
  },
  {
   "cell_type": "code",
   "execution_count": 10,
   "metadata": {},
   "outputs": [
    {
     "data": {
      "text/plain": [
       "array([0.26667338, 0.18262692, 0.96351979, 0.2218171 , 0.64352988,\n",
       "       0.3178045 , 0.98768905, 0.15130644, 0.29115199, 0.93492759])"
      ]
     },
     "execution_count": 10,
     "metadata": {},
     "output_type": "execute_result"
    }
   ],
   "source": [
    "W = eval_model(X_st, y, iterations=int(weights[0]), alpha=weights[1])[0]\n",
    "calc_pred_proba(W, X_st)"
   ]
  },
  {
   "cell_type": "markdown",
   "metadata": {},
   "source": [
    "## 4. Создайте функцию calc_pred, возвращающую предсказанный класс (на вход подаются W, который уже посчитан функцией eval_model и X, на выходе - массив y_pred)."
   ]
  },
  {
   "cell_type": "code",
   "execution_count": 11,
   "metadata": {},
   "outputs": [],
   "source": [
    "def calc_pred(W, X):\n",
    "    y_pred_proba = calc_pred_proba(W, X)\n",
    "    y_pred = [1 if x>0.5 else 0 for x in y_pred_proba] \n",
    "    return y_pred"
   ]
  },
  {
   "cell_type": "code",
   "execution_count": 12,
   "metadata": {},
   "outputs": [
    {
     "data": {
      "text/plain": [
       "[0, 0, 1, 0, 1, 0, 1, 0, 0, 1]"
      ]
     },
     "execution_count": 12,
     "metadata": {},
     "output_type": "execute_result"
    }
   ],
   "source": [
    "y_pred = calc_pred(W, X_st)\n",
    "y_pred"
   ]
  },
  {
   "cell_type": "markdown",
   "metadata": {},
   "source": [
    "## 5. Посчитайте Accuracy, матрицу ошибок, точность и полноту, а также F1 score."
   ]
  },
  {
   "cell_type": "code",
   "execution_count": 13,
   "metadata": {},
   "outputs": [],
   "source": [
    "import pandas as pd\n",
    "import seaborn as sns  \n",
    "from sklearn.metrics import confusion_matrix\n",
    "#from sklearn.metrics import plot_confusion_matrix"
   ]
  },
  {
   "cell_type": "code",
   "execution_count": 14,
   "metadata": {},
   "outputs": [
    {
     "data": {
      "text/html": [
       "<div>\n",
       "<style scoped>\n",
       "    .dataframe tbody tr th:only-of-type {\n",
       "        vertical-align: middle;\n",
       "    }\n",
       "\n",
       "    .dataframe tbody tr th {\n",
       "        vertical-align: top;\n",
       "    }\n",
       "\n",
       "    .dataframe thead th {\n",
       "        text-align: right;\n",
       "    }\n",
       "</style>\n",
       "<table border=\"1\" class=\"dataframe\">\n",
       "  <thead>\n",
       "    <tr style=\"text-align: right;\">\n",
       "      <th></th>\n",
       "      <th>0</th>\n",
       "      <th>1</th>\n",
       "    </tr>\n",
       "  </thead>\n",
       "  <tbody>\n",
       "    <tr>\n",
       "      <th>0</th>\n",
       "      <td>5</td>\n",
       "      <td>0</td>\n",
       "    </tr>\n",
       "    <tr>\n",
       "      <th>1</th>\n",
       "      <td>1</td>\n",
       "      <td>4</td>\n",
       "    </tr>\n",
       "  </tbody>\n",
       "</table>\n",
       "</div>"
      ],
      "text/plain": [
       "   0  1\n",
       "0  5  0\n",
       "1  1  4"
      ]
     },
     "execution_count": 14,
     "metadata": {},
     "output_type": "execute_result"
    }
   ],
   "source": [
    "pd.DataFrame(confusion_matrix(y, y_pred))"
   ]
  },
  {
   "cell_type": "code",
   "execution_count": 15,
   "metadata": {},
   "outputs": [
    {
     "name": "stdout",
     "output_type": "stream",
     "text": [
      "4 5 0 1\n"
     ]
    }
   ],
   "source": [
    "TP, TN, FP, FN = 0, 0, 0, 0 \n",
    "    \n",
    "for i in range(len(y)):\n",
    "    if (calc_pred(W, X_st)[i] == 1) & (y[i] == 1):\n",
    "        TP += 1\n",
    "    if (calc_pred(W, X_st)[i] == 1) & (y[i] == 0):\n",
    "        FP += 1\n",
    "    if (calc_pred(W, X_st)[i] == 0) & (y[i] == 0):\n",
    "        TN += 1\n",
    "    if (calc_pred(W, X_st)[i] == 0) & (y[i] == 1):\n",
    "        FN += 1 \n",
    "print(TP, TN, FP, FN)"
   ]
  },
  {
   "cell_type": "code",
   "execution_count": 25,
   "metadata": {},
   "outputs": [
    {
     "data": {
      "image/png": "[encoded data removed]",
      "text/plain": [
       "<Figure size 432x288 with 2 Axes>"
      ]
     },
     "metadata": {
      "needs_background": "light"
     },
     "output_type": "display_data"
    }
   ],
   "source": [
    "#cm = confusion_matrix(y, y_pred)\n",
    "cm = [[TP, FP],[FN, TN]]\n",
    "\n",
    "ax= plt.subplot()\n",
    "sns.heatmap(cm, annot=True, ax = ax);\n",
    "\n",
    "ax.set_xlabel('Predicted labels');ax.set_ylabel('True labels'); \n",
    "ax.set_title('Confusion Matrix'); \n",
    "ax.xaxis.set_ticklabels(['1', '0']); ax.yaxis.set_ticklabels(['1', '0']);"
   ]
  },
  {
   "cell_type": "code",
   "execution_count": 17,
   "metadata": {},
   "outputs": [],
   "source": [
    "def metrics(X, y):\n",
    "    TP, TN, FP, FN = 0, 0, 0, 0 \n",
    "    \n",
    "    for i in range(len(y)):\n",
    "        if (calc_pred(W, X)[i] == 1) & (y[i] == 1):\n",
    "            TP += 1\n",
    "        if (calc_pred(W, X)[i] == 1) & (y[i] == 0):\n",
    "            FP += 1\n",
    "        if (calc_pred(W, X)[i] == 0) & (y[i] == 0):\n",
    "            TN += 1\n",
    "        if (calc_pred(W, X)[i] == 0) & (y[i] == 1):\n",
    "            FN += 1 \n",
    "    print(TP, TN, FP, FN)\n",
    "    \n",
    "    accuracy = (TP + TN) / (TP + FP + FN + TN)\n",
    "\n",
    "    precision = TP / (TP + FP)\n",
    "\n",
    "    recall = TP / (TP + FN)\n",
    "\n",
    "    f1_score = (2 * precision * recall) / (precision + recall)\n",
    "    \n",
    "    print(f'accuracy = {accuracy}')\n",
    "    print(f'precision = {precision}')\n",
    "    print(f'recall = {recall}')\n",
    "    print(f'F1-score = {f1_score}')"
   ]
  },
  {
   "cell_type": "code",
   "execution_count": 18,
   "metadata": {},
   "outputs": [
    {
     "name": "stdout",
     "output_type": "stream",
     "text": [
      "4 5 0 1\n",
      "accuracy = 0.9\n",
      "precision = 1.0\n",
      "recall = 0.8\n",
      "F1-score = 0.888888888888889\n"
     ]
    }
   ],
   "source": [
    "metrics(X_st, y)"
   ]
  },
  {
   "cell_type": "markdown",
   "metadata": {},
   "source": [
    "## 6. Могла ли модель переобучиться? Почему?"
   ]
  },
  {
   "cell_type": "markdown",
   "metadata": {},
   "source": [
    "Т.к. accuracy, recall и f1 не имеют максимальных значений, то вряд ли модель переобучилась."
   ]
  },
  {
   "cell_type": "markdown",
   "metadata": {},
   "source": [
    "## 7*. Создайте функции eval_model_l1 и eval_model_l2 с применением L1 и L2 регуляризаций соответственно."
   ]
  },
  {
   "cell_type": "code",
   "execution_count": 19,
   "metadata": {},
   "outputs": [],
   "source": [
    "def eval_model_L1(X, y, iterations, alpha=1e-4, lambda_=1e-2):\n",
    "    np.random.seed(42)\n",
    "    W = np.random.randn(X.shape[0])\n",
    "    n = X.shape[1]\n",
    "    for i in range(1, iterations+1):\n",
    "        z = np.dot(W, X)\n",
    "        y_pred = sigmoid(z)\n",
    "        err = calc_logloss(y, y_pred)\n",
    "        W -= alpha * (1/n * 2 * np.dot((y_pred - y), X.T) + lambda_ * np.sign(W))\n",
    "        if i % (iterations / 10) == 0:\n",
    "            #print(i, W, err)\n",
    "            pass\n",
    "    return W"
   ]
  },
  {
   "cell_type": "code",
   "execution_count": 20,
   "metadata": {},
   "outputs": [],
   "source": [
    "def eval_model_L2(X, y, iterations, alpha=1e-4, lambda_=1e-2):\n",
    "    np.random.seed(42)\n",
    "    W = np.random.randn(X.shape[0])\n",
    "    n = X.shape[1]\n",
    "    for i in range(1, iterations+1):\n",
    "        z = np.dot(W, X)\n",
    "        y_pred = sigmoid(z)\n",
    "        err = calc_logloss(y, y_pred)\n",
    "        W -= alpha * (1/n * np.dot((y_pred - y), X.T) + lambda_ * W**2)\n",
    "        if i % (iterations / 10) == 0:\n",
    "            #print(i, W, err)\n",
    "            pass\n",
    "    return W"
   ]
  },
  {
   "cell_type": "code",
   "execution_count": 21,
   "metadata": {},
   "outputs": [
    {
     "data": {
      "text/plain": [
       "array([ 0.50269558, -3.02957214, -1.50376656,  5.29189185])"
      ]
     },
     "execution_count": 21,
     "metadata": {},
     "output_type": "execute_result"
    }
   ],
   "source": [
    "W1 = eval_model_L1(X_st, y, 10000, alpha=0.01)\n",
    "W1"
   ]
  },
  {
   "cell_type": "code",
   "execution_count": 22,
   "metadata": {},
   "outputs": [
    {
     "data": {
      "text/plain": [
       "array([-0.73826737, -9.23683576,  1.72097213,  3.85030836])"
      ]
     },
     "execution_count": 22,
     "metadata": {},
     "output_type": "execute_result"
    }
   ],
   "source": [
    "W2 = eval_model_L2(X_st, y, 10000, alpha=0.01)\n",
    "W2"
   ]
  }
 ],
 "metadata": {
  "kernelspec": {
   "display_name": "Python 3",
   "language": "python",
   "name": "python3"
  },
  "language_info": {
   "codemirror_mode": {
    "name": "ipython",
    "version": 3
   },
   "file_extension": ".py",
   "mimetype": "text/x-python",
   "name": "python",
   "nbconvert_exporter": "python",
   "pygments_lexer": "ipython3",
   "version": "3.7.5"
  }
 },
 "nbformat": 4,
 "nbformat_minor": 2
}
