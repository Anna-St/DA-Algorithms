{
 "cells": [
  {
   "cell_type": "markdown",
   "metadata": {
    "colab_type": "text",
    "id": "FM6XV3IlabW_"
   },
   "source": [
    "# ДЗ к уроку №4. Деревья решений"
   ]
  },
  {
   "cell_type": "markdown",
   "metadata": {},
   "source": [
    "## 1. В коде из методички реализуйте один или несколько из критериев останова (количество листьев, количество используемых признаков, глубина дерева и т.д.)"
   ]
  },
  {
   "cell_type": "code",
   "execution_count": 1,
   "metadata": {
    "colab": {},
    "colab_type": "code",
    "id": "R-asfUSaabXD"
   },
   "outputs": [],
   "source": [
    "from graphviz import Digraph"
   ]
  },
  {
   "cell_type": "code",
   "execution_count": 2,
   "metadata": {},
   "outputs": [],
   "source": [
    "import os\n",
    "os.environ[\"PATH\"] += os.pathsep + 'C:/Program Files (x86)/Graphviz2.38/bin/'"
   ]
  },
  {
   "cell_type": "markdown",
   "metadata": {
    "colab_type": "text",
    "id": "wQbZUf1OabXS"
   },
   "source": [
    "### Критерии останова"
   ]
  },
  {
   "cell_type": "markdown",
   "metadata": {
    "colab_type": "text",
    "id": "fNr4Fc7tabXS"
   },
   "source": [
    "_Критерии останова_ - это критерии, которые показывают, нужно ли остановить процесс построения дерева. Правильный выбор критериев останова роста дерева может существенно повлиять на его качество. Существует большое количество возможных ограничений:\n",
    "\n",
    "- Ограничение максимальной глубины дерева. Этот критерий считается достаточно грубым, но хорошо зарекомендовавшим себя в построении композиций деревьев - когда несколько деревьев объединяются в один алгоритм.\n",
    "\n",
    "\n",
    "- Ограничение максимального количества листьев.\n",
    "\n",
    "\n",
    "- Ограничение минимального количества $n$ объектов в листе. При этом оно должно быть достаточным, чтобы построить надежный прогноз.\n",
    "\n",
    "\n",
    "- Останов в случае, когда все объекты в листе относятся к одному классу.\n",
    "\n",
    "\n",
    "- Требование улучшения функционала качества при разбиении на какую-то минимальную величину.\n",
    "\n",
    "Подбор оптимальных критериев - сложная задача, которая обычно решается методом кросс-валидации."
   ]
  },
  {
   "cell_type": "code",
   "execution_count": 3,
   "metadata": {
    "colab": {},
    "colab_type": "code",
    "id": "u7Xi827dabXb"
   },
   "outputs": [],
   "source": [
    "import matplotlib.pyplot as plt\n",
    "%matplotlib inline\n",
    "import random\n",
    "\n",
    "from matplotlib.colors import ListedColormap\n",
    "from sklearn import datasets\n",
    "\n",
    "import numpy as np"
   ]
  },
  {
   "cell_type": "code",
   "execution_count": 4,
   "metadata": {
    "colab": {},
    "colab_type": "code",
    "id": "6FZaieu8abXe"
   },
   "outputs": [],
   "source": [
    "# сгенерируем данные\n",
    "classification_data, classification_labels = datasets.make_classification(n_features = 5, n_informative = 2, \n",
    "                                                      n_classes = 2, n_redundant=0, \n",
    "                                                      n_clusters_per_class=1, random_state=5)"
   ]
  },
  {
   "cell_type": "code",
   "execution_count": 5,
   "metadata": {
    "colab": {},
    "colab_type": "code",
    "id": "FHpOr1k6abXg",
    "outputId": "156a871e-72bd-4187-eb96-c6688945044e",
    "scrolled": false
   },
   "outputs": [
    {
     "data": {
      "text/plain": [
       "<matplotlib.collections.PathCollection at 0x2442b4f58c8>"
      ]
     },
     "execution_count": 5,
     "metadata": {},
     "output_type": "execute_result"
    },
    {
     "data": {
      "image/png": "[encoded data removed]",
      "text/plain": [
       "<Figure size 576x576 with 1 Axes>"
      ]
     },
     "metadata": {
      "needs_background": "light"
     },
     "output_type": "display_data"
    }
   ],
   "source": [
    "# визуализируем сгенерированные данные\n",
    "\n",
    "colors = ListedColormap(['red', 'blue'])\n",
    "light_colors = ListedColormap(['lightcoral', 'lightblue'])\n",
    "\n",
    "plt.figure(figsize=(8,8))\n",
    "plt.scatter(list(map(lambda x: x[0], classification_data)), list(map(lambda x: x[1], classification_data)), \n",
    "              c=classification_labels, cmap=colors)"
   ]
  },
  {
   "cell_type": "code",
   "execution_count": 6,
   "metadata": {
    "colab": {},
    "colab_type": "code",
    "id": "Duu45IJUabXi"
   },
   "outputs": [],
   "source": [
    "# Реализуем класс узла\n",
    "\n",
    "class Node:\n",
    "    \n",
    "    def __init__(self, index, t, true_branch, false_branch):\n",
    "        self.index = index  # индекс признака, по которому ведется сравнение с порогом в этом узле\n",
    "        self.t = t  # значение порога\n",
    "        self.true_branch = true_branch  # поддерево, удовлетворяющее условию в узле\n",
    "        self.false_branch = false_branch  # поддерево, не удовлетворяющее условию в узле"
   ]
  },
  {
   "cell_type": "code",
   "execution_count": 7,
   "metadata": {
    "colab": {},
    "colab_type": "code",
    "id": "QY8oNtakabXl"
   },
   "outputs": [],
   "source": [
    "# И класс терминального узла (листа)\n",
    "\n",
    "class Leaf:\n",
    "    \n",
    "    def __init__(self, data, labels):\n",
    "        self.data = data\n",
    "        self.labels = labels  # y_true\n",
    "        self.prediction = self.predict()  # y_pred\n",
    "        \n",
    "    def predict(self):\n",
    "        # подсчет количества объектов разных классов\n",
    "        classes = {}  # сформируем словарь \"класс: количество объектов\"\n",
    "        for label in self.labels:\n",
    "            if label not in classes:\n",
    "                classes[label] = 0\n",
    "            classes[label] += 1\n",
    "        #  найдем класс, количество объектов которого будет максимальным в этом листе и вернем его    \n",
    "        prediction = max(classes, key=classes.get)\n",
    "        return prediction        "
   ]
  },
  {
   "cell_type": "code",
   "execution_count": 8,
   "metadata": {},
   "outputs": [],
   "source": [
    "# Расчет критерия Джини\n",
    "\n",
    "def gini(labels):\n",
    "    #  подсчет количества объектов разных классов\n",
    "    classes = {}\n",
    "    for label in labels:\n",
    "        if label not in classes:\n",
    "            classes[label] = 0\n",
    "        classes[label] += 1\n",
    "    \n",
    "    #  расчет критерия\n",
    "    impurity = 1    # \"impurity\" - \"нечистота\", степень неопределенности\n",
    "    for label in classes:\n",
    "        p = classes[label] / len(labels)\n",
    "        impurity -= p ** 2\n",
    "        \n",
    "    return impurity"
   ]
  },
  {
   "cell_type": "code",
   "execution_count": 9,
   "metadata": {},
   "outputs": [],
   "source": [
    "# Расчет качества\n",
    "\n",
    "def quality(left_labels, right_labels, current_gini):\n",
    "\n",
    "    # доля выбоки, ушедшая в левое поддерево\n",
    "    p = float(left_labels.shape[0]) / (left_labels.shape[0] + right_labels.shape[0])\n",
    "    \n",
    "    return current_gini - p * gini(left_labels) - (1 - p) * gini(right_labels)"
   ]
  },
  {
   "cell_type": "code",
   "execution_count": 10,
   "metadata": {
    "colab": {},
    "colab_type": "code",
    "id": "nhWkphi3abXt"
   },
   "outputs": [],
   "source": [
    "# Разбиение датасета в узле\n",
    "\n",
    "def split(data, labels, index, t):\n",
    "    \n",
    "    left = np.where(data[:, index] <= t)\n",
    "    right = np.where(data[:, index] > t)\n",
    "        \n",
    "    true_data = data[left]\n",
    "    false_data = data[right]\n",
    "    true_labels = labels[left]\n",
    "    false_labels = labels[right]\n",
    "        \n",
    "    return true_data, false_data, true_labels, false_labels"
   ]
  },
  {
   "cell_type": "code",
   "execution_count": 11,
   "metadata": {},
   "outputs": [],
   "source": [
    "# Нахождение наилучшего разбиения\n",
    "\n",
    "def find_best_split(data, labels, n_features, n_leafs):\n",
    "    \n",
    "    #  обозначим минимальное количество объектов в узле\n",
    "    \n",
    "    current_gini = gini(labels)\n",
    "\n",
    "    best_quality = 0\n",
    "    best_t = None\n",
    "    best_index = None\n",
    "    \n",
    "    if n_features > data.shape[1]:\n",
    "        n_features = data.shape[1]\n",
    "    \n",
    "    for index in range(n_features):\n",
    "        t_values = [row[index] for row in data]\n",
    "        \n",
    "        for t in t_values:\n",
    "            true_data, false_data, true_labels, false_labels = split(data, labels, index, t)\n",
    "            #  пропускаем разбиения, в которых в узле остается менее n_leafs объектов\n",
    "            if len(true_data) < n_leafs or len(false_data) < n_leafs:\n",
    "                continue\n",
    "            \n",
    "            current_quality = quality(true_labels, false_labels, current_gini)\n",
    "            \n",
    "            #  выбираем порог, на котором получается максимальный прирост качества\n",
    "            if current_quality > best_quality:\n",
    "                best_quality, best_t, best_index = current_quality, t, index\n",
    "\n",
    "    return best_quality, best_t, best_index"
   ]
  },
  {
   "cell_type": "code",
   "execution_count": 12,
   "metadata": {},
   "outputs": [],
   "source": [
    "# Построение дерева с помощью рекурсивной функции\n",
    "\n",
    "def build_tree(data, labels, n_features, n_leafs):\n",
    "\n",
    "    quality, t, index = find_best_split(data, labels, n_features, n_leafs)\n",
    "\n",
    "    #  Базовый случай - прекращаем рекурсию, когда нет прироста в качества\n",
    "    if quality == 0:\n",
    "        return Leaf(data, labels)\n",
    "\n",
    "    true_data, false_data, true_labels, false_labels = split(data, labels, index, t)\n",
    "\n",
    "    # Рекурсивно строим два поддерева\n",
    "    true_branch = build_tree(true_data, true_labels, n_features, n_leafs)\n",
    "    false_branch = build_tree(false_data, false_labels, n_features, n_leafs)\n",
    "\n",
    "    # Возвращаем класс узла со всеми поддеревьями, то есть целого дерева\n",
    "    return Node(index, t, true_branch, false_branch)"
   ]
  },
  {
   "cell_type": "code",
   "execution_count": 13,
   "metadata": {
    "colab": {},
    "colab_type": "code",
    "id": "F7ruKazCabX3"
   },
   "outputs": [],
   "source": [
    "# Проход объекта по дереву для его классификации\n",
    "\n",
    "def classify_object(obj, node):\n",
    "\n",
    "    #  Останавливаем рекурсию, если достигли листа\n",
    "    if isinstance(node, Leaf):\n",
    "        answer = node.prediction\n",
    "        return answer\n",
    "\n",
    "    if obj[node.index] <= node.t:\n",
    "        return classify_object(obj, node.true_branch)\n",
    "    else:\n",
    "        return classify_object(obj, node.false_branch)"
   ]
  },
  {
   "cell_type": "code",
   "execution_count": 14,
   "metadata": {
    "colab": {},
    "colab_type": "code",
    "id": "SLOdTAqdabX7"
   },
   "outputs": [],
   "source": [
    "# Предсказание деревом для всего датасета\n",
    "\n",
    "def predict(data, tree):\n",
    "    \n",
    "    classes = []\n",
    "    for obj in data:\n",
    "        prediction = classify_object(obj, tree)\n",
    "        classes.append(prediction)\n",
    "    return classes"
   ]
  },
  {
   "cell_type": "code",
   "execution_count": 15,
   "metadata": {
    "colab": {},
    "colab_type": "code",
    "id": "wnDPkwVJabYA"
   },
   "outputs": [],
   "source": [
    "# Разобьем выборку на обучающую и тестовую\n",
    "\n",
    "from sklearn import model_selection\n",
    "\n",
    "train_data, test_data, train_labels, test_labels = model_selection.train_test_split(classification_data, \n",
    "                                                                                     classification_labels, \n",
    "                                                                                     test_size = 0.3,\n",
    "                                                                                     random_state = 1)"
   ]
  },
  {
   "cell_type": "code",
   "execution_count": 16,
   "metadata": {
    "colab": {},
    "colab_type": "code",
    "id": "2odXAe7vabYP"
   },
   "outputs": [],
   "source": [
    "# Введем функцию подсчета точности как доли правильных ответов\n",
    "def accuracy_metric(actual, predicted):\n",
    "    correct = 0\n",
    "    for i in range(len(actual)):\n",
    "        if actual[i] == predicted[i]:\n",
    "            correct += 1\n",
    "    return correct / float(len(actual)) * 100.0"
   ]
  },
  {
   "cell_type": "code",
   "execution_count": 17,
   "metadata": {},
   "outputs": [],
   "source": [
    "def compare(n_features, n_leafs, train_data=train_data, test_data=test_data,\n",
    "               train_labels=train_labels, test_labels=test_labels):\n",
    "    tree = build_tree(train_data, train_labels, n_features, n_leafs)\n",
    "    train_res = predict(train_data, tree)\n",
    "    result = predict(test_data, tree)\n",
    "    train_ac = accuracy_metric(train_labels, train_res)\n",
    "    test_ac = accuracy_metric(test_labels, result)\n",
    "    print(f'Features: {n_features}, leafs: {n_leafs}')\n",
    "    print(f'Accuracy: train={train_ac:.4f}, test={test_ac:.4f}')\n",
    "    return test_ac"
   ]
  },
  {
   "cell_type": "code",
   "execution_count": 18,
   "metadata": {},
   "outputs": [
    {
     "name": "stdout",
     "output_type": "stream",
     "text": [
      "Features: 2, leafs: 3\n",
      "Accuracy: train=87.1429, test=46.6667\n",
      "Features: 2, leafs: 3\n",
      "Accuracy: train=87.1429, test=46.6667\n",
      "Features: 2, leafs: 3\n",
      "Accuracy: train=87.1429, test=46.6667\n",
      "\n",
      "\n",
      "Features: 2, leafs: 4\n",
      "Accuracy: train=82.8571, test=53.3333\n",
      "Features: 2, leafs: 4\n",
      "Accuracy: train=82.8571, test=53.3333\n",
      "Features: 2, leafs: 4\n",
      "Accuracy: train=82.8571, test=53.3333\n",
      "\n",
      "\n",
      "Features: 2, leafs: 5\n",
      "Accuracy: train=82.8571, test=53.3333\n",
      "Features: 2, leafs: 5\n",
      "Accuracy: train=82.8571, test=53.3333\n",
      "\n",
      "\n",
      "Features: 2, leafs: 6\n",
      "Accuracy: train=82.8571, test=53.3333\n",
      "Features: 2, leafs: 6\n",
      "Accuracy: train=82.8571, test=53.3333\n",
      "\n",
      "\n",
      "Features: 3, leafs: 3\n",
      "Accuracy: train=88.5714, test=56.6667\n",
      "Features: 3, leafs: 3\n",
      "Accuracy: train=88.5714, test=56.6667\n",
      "Features: 3, leafs: 3\n",
      "Accuracy: train=88.5714, test=56.6667\n",
      "\n",
      "\n",
      "Features: 3, leafs: 4\n",
      "Accuracy: train=82.8571, test=53.3333\n",
      "Features: 3, leafs: 4\n",
      "Accuracy: train=82.8571, test=53.3333\n",
      "\n",
      "\n",
      "Features: 3, leafs: 5\n",
      "Accuracy: train=82.8571, test=53.3333\n",
      "Features: 3, leafs: 5\n",
      "Accuracy: train=82.8571, test=53.3333\n",
      "\n",
      "\n",
      "Features: 3, leafs: 6\n",
      "Accuracy: train=82.8571, test=53.3333\n",
      "Features: 3, leafs: 6\n",
      "Accuracy: train=82.8571, test=53.3333\n",
      "\n",
      "\n",
      "Features: 4, leafs: 3\n",
      "Accuracy: train=90.0000, test=60.0000\n",
      "Features: 4, leafs: 3\n",
      "Accuracy: train=90.0000, test=60.0000\n",
      "Features: 4, leafs: 3\n",
      "Accuracy: train=90.0000, test=60.0000\n",
      "\n",
      "\n",
      "Features: 4, leafs: 4\n",
      "Accuracy: train=82.8571, test=53.3333\n",
      "Features: 4, leafs: 4\n",
      "Accuracy: train=82.8571, test=53.3333\n",
      "\n",
      "\n",
      "Features: 4, leafs: 5\n",
      "Accuracy: train=82.8571, test=53.3333\n",
      "Features: 4, leafs: 5\n",
      "Accuracy: train=82.8571, test=53.3333\n",
      "\n",
      "\n",
      "Features: 4, leafs: 6\n",
      "Accuracy: train=82.8571, test=53.3333\n",
      "Features: 4, leafs: 6\n",
      "Accuracy: train=82.8571, test=53.3333\n",
      "\n",
      "\n",
      "\n",
      "Лучшие критерии останова: \n",
      "Количество признаков: 4 \n",
      "Минимальное количество листьев: 3\n"
     ]
    }
   ],
   "source": [
    "best_ac = 0\n",
    "feat_best = 0\n",
    "leaf_best = 0\n",
    "\n",
    "for i in range(2,5):\n",
    "    for j in range(3,7):\n",
    "        compare(i, j)\n",
    "        if compare(i, j) > best_ac:\n",
    "            best_ac = compare(i, j)\n",
    "            feat_best = i\n",
    "            leaf_best = j\n",
    "        print('\\n')\n",
    "print(f'\\nЛучшие критерии останова: \\nКоличество признаков: {feat_best} \\nМинимальное количество листьев: {leaf_best}')"
   ]
  }
 ],
 "metadata": {
  "colab": {
   "collapsed_sections": [],
   "name": "Lesson_4.ipynb",
   "provenance": []
  },
  "kernelspec": {
   "display_name": "Python 3",
   "language": "python",
   "name": "python3"
  },
  "language_info": {
   "codemirror_mode": {
    "name": "ipython",
    "version": 3
   },
   "file_extension": ".py",
   "mimetype": "text/x-python",
   "name": "python",
   "nbconvert_exporter": "python",
   "pygments_lexer": "ipython3",
   "version": "3.7.5"
  }
 },
 "nbformat": 4,
 "nbformat_minor": 1
}
